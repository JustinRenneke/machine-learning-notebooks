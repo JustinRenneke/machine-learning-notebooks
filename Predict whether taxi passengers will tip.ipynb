{
 "cells": [
  {
   "cell_type": "markdown",
   "metadata": {},
   "source": [
    "### Using the NYC Yellow Taxi Trips dataset (https://www.kaggle.com/nyctaxi/yellow-taxis), we'll try to predict whether or not a cab driver is going to get a tip from his passengers."
   ]
  },
  {
   "cell_type": "code",
   "execution_count": 1,
   "metadata": {
    "collapsed": true
   },
   "outputs": [],
   "source": [
    "import numpy as np\n",
    "import pandas as pd\n",
    "import seaborn as sns\n",
    "import matplotlib.pyplot as plt\n",
    "%matplotlib inline\n",
    "import datetime, time"
   ]
  },
  {
   "cell_type": "code",
   "execution_count": 2,
   "metadata": {
    "collapsed": true
   },
   "outputs": [],
   "source": [
    "df = pd.read_csv('1january.csv')"
   ]
  },
  {
   "cell_type": "code",
   "execution_count": 3,
   "metadata": {},
   "outputs": [
    {
     "data": {
      "text/html": [
       "<div>\n",
       "<style>\n",
       "    .dataframe thead tr:only-child th {\n",
       "        text-align: right;\n",
       "    }\n",
       "\n",
       "    .dataframe thead th {\n",
       "        text-align: left;\n",
       "    }\n",
       "\n",
       "    .dataframe tbody tr th {\n",
       "        vertical-align: top;\n",
       "    }\n",
       "</style>\n",
       "<table border=\"1\" class=\"dataframe\">\n",
       "  <thead>\n",
       "    <tr style=\"text-align: right;\">\n",
       "      <th></th>\n",
       "      <th>pickup_datetime</th>\n",
       "      <th>pickup_latitude</th>\n",
       "      <th>pickup_longitude</th>\n",
       "      <th>trip_distance</th>\n",
       "      <th>passenger_count</th>\n",
       "      <th>dropoff_datetime</th>\n",
       "      <th>dropoff_latitude</th>\n",
       "      <th>dropoff_longitude</th>\n",
       "      <th>fare_amount</th>\n",
       "      <th>tolls_amount</th>\n",
       "      <th>taxes_amount</th>\n",
       "      <th>tip_amount</th>\n",
       "      <th>payment_amount</th>\n",
       "      <th>payment_type</th>\n",
       "    </tr>\n",
       "  </thead>\n",
       "  <tbody>\n",
       "    <tr>\n",
       "      <th>0</th>\n",
       "      <td>2016-01-01 00:00:00</td>\n",
       "      <td>40.73470</td>\n",
       "      <td>-73.99037</td>\n",
       "      <td>1.10</td>\n",
       "      <td>2</td>\n",
       "      <td>2016-01-01 00:00:00</td>\n",
       "      <td>40.73241</td>\n",
       "      <td>-73.98184</td>\n",
       "      <td>7.5</td>\n",
       "      <td>0.0</td>\n",
       "      <td>1.3</td>\n",
       "      <td>0.00</td>\n",
       "      <td>8.80</td>\n",
       "      <td>2</td>\n",
       "    </tr>\n",
       "    <tr>\n",
       "      <th>1</th>\n",
       "      <td>2016-01-01 00:00:00</td>\n",
       "      <td>40.72991</td>\n",
       "      <td>-73.98078</td>\n",
       "      <td>4.90</td>\n",
       "      <td>5</td>\n",
       "      <td>2016-01-01 00:00:00</td>\n",
       "      <td>40.71668</td>\n",
       "      <td>-73.94447</td>\n",
       "      <td>18.0</td>\n",
       "      <td>0.0</td>\n",
       "      <td>1.3</td>\n",
       "      <td>0.00</td>\n",
       "      <td>19.30</td>\n",
       "      <td>1</td>\n",
       "    </tr>\n",
       "    <tr>\n",
       "      <th>2</th>\n",
       "      <td>2016-01-01 00:00:00</td>\n",
       "      <td>40.67957</td>\n",
       "      <td>-73.98455</td>\n",
       "      <td>10.54</td>\n",
       "      <td>1</td>\n",
       "      <td>2016-01-01 00:00:00</td>\n",
       "      <td>40.78893</td>\n",
       "      <td>-73.95027</td>\n",
       "      <td>33.0</td>\n",
       "      <td>0.0</td>\n",
       "      <td>1.3</td>\n",
       "      <td>0.00</td>\n",
       "      <td>34.30</td>\n",
       "      <td>1</td>\n",
       "    </tr>\n",
       "    <tr>\n",
       "      <th>3</th>\n",
       "      <td>2016-01-01 00:00:00</td>\n",
       "      <td>40.71899</td>\n",
       "      <td>-73.99347</td>\n",
       "      <td>4.75</td>\n",
       "      <td>1</td>\n",
       "      <td>2016-01-01 00:00:00</td>\n",
       "      <td>40.65733</td>\n",
       "      <td>-73.96224</td>\n",
       "      <td>16.5</td>\n",
       "      <td>0.0</td>\n",
       "      <td>0.8</td>\n",
       "      <td>0.00</td>\n",
       "      <td>17.30</td>\n",
       "      <td>2</td>\n",
       "    </tr>\n",
       "    <tr>\n",
       "      <th>4</th>\n",
       "      <td>2016-01-01 00:00:00</td>\n",
       "      <td>40.78133</td>\n",
       "      <td>-73.96062</td>\n",
       "      <td>1.76</td>\n",
       "      <td>3</td>\n",
       "      <td>2016-01-01 00:00:00</td>\n",
       "      <td>40.75851</td>\n",
       "      <td>-73.97726</td>\n",
       "      <td>8.0</td>\n",
       "      <td>0.0</td>\n",
       "      <td>0.8</td>\n",
       "      <td>0.00</td>\n",
       "      <td>8.80</td>\n",
       "      <td>2</td>\n",
       "    </tr>\n",
       "    <tr>\n",
       "      <th>5</th>\n",
       "      <td>2016-01-01 00:00:00</td>\n",
       "      <td>40.74305</td>\n",
       "      <td>-73.98012</td>\n",
       "      <td>5.52</td>\n",
       "      <td>2</td>\n",
       "      <td>2016-01-01 00:18:30</td>\n",
       "      <td>40.76314</td>\n",
       "      <td>-73.91349</td>\n",
       "      <td>19.0</td>\n",
       "      <td>0.0</td>\n",
       "      <td>1.3</td>\n",
       "      <td>0.00</td>\n",
       "      <td>20.30</td>\n",
       "      <td>2</td>\n",
       "    </tr>\n",
       "    <tr>\n",
       "      <th>6</th>\n",
       "      <td>2016-01-01 00:00:00</td>\n",
       "      <td>40.71999</td>\n",
       "      <td>-73.99406</td>\n",
       "      <td>7.45</td>\n",
       "      <td>2</td>\n",
       "      <td>2016-01-01 00:26:45</td>\n",
       "      <td>40.78987</td>\n",
       "      <td>-73.96636</td>\n",
       "      <td>26.0</td>\n",
       "      <td>0.0</td>\n",
       "      <td>1.3</td>\n",
       "      <td>0.00</td>\n",
       "      <td>27.30</td>\n",
       "      <td>2</td>\n",
       "    </tr>\n",
       "    <tr>\n",
       "      <th>7</th>\n",
       "      <td>2016-01-01 00:00:01</td>\n",
       "      <td>40.74461</td>\n",
       "      <td>-73.97942</td>\n",
       "      <td>1.20</td>\n",
       "      <td>1</td>\n",
       "      <td>2016-01-01 00:11:55</td>\n",
       "      <td>40.75394</td>\n",
       "      <td>-73.99203</td>\n",
       "      <td>9.0</td>\n",
       "      <td>0.0</td>\n",
       "      <td>1.3</td>\n",
       "      <td>0.00</td>\n",
       "      <td>10.30</td>\n",
       "      <td>2</td>\n",
       "    </tr>\n",
       "    <tr>\n",
       "      <th>8</th>\n",
       "      <td>2016-01-01 00:00:02</td>\n",
       "      <td>40.72390</td>\n",
       "      <td>-73.99834</td>\n",
       "      <td>3.21</td>\n",
       "      <td>1</td>\n",
       "      <td>2016-01-01 00:11:08</td>\n",
       "      <td>40.68840</td>\n",
       "      <td>-73.99585</td>\n",
       "      <td>11.5</td>\n",
       "      <td>0.0</td>\n",
       "      <td>1.3</td>\n",
       "      <td>0.00</td>\n",
       "      <td>12.80</td>\n",
       "      <td>2</td>\n",
       "    </tr>\n",
       "    <tr>\n",
       "      <th>9</th>\n",
       "      <td>2016-01-01 00:00:02</td>\n",
       "      <td>40.79105</td>\n",
       "      <td>-73.94715</td>\n",
       "      <td>6.00</td>\n",
       "      <td>1</td>\n",
       "      <td>2016-01-01 00:11:14</td>\n",
       "      <td>40.86558</td>\n",
       "      <td>-73.92077</td>\n",
       "      <td>18.0</td>\n",
       "      <td>0.0</td>\n",
       "      <td>1.3</td>\n",
       "      <td>0.00</td>\n",
       "      <td>19.30</td>\n",
       "      <td>2</td>\n",
       "    </tr>\n",
       "    <tr>\n",
       "      <th>10</th>\n",
       "      <td>2016-01-01 00:00:03</td>\n",
       "      <td>40.72154</td>\n",
       "      <td>-73.98902</td>\n",
       "      <td>0.01</td>\n",
       "      <td>4</td>\n",
       "      <td>2016-01-01 00:00:11</td>\n",
       "      <td>40.72170</td>\n",
       "      <td>-73.98896</td>\n",
       "      <td>2.5</td>\n",
       "      <td>0.0</td>\n",
       "      <td>1.3</td>\n",
       "      <td>0.00</td>\n",
       "      <td>3.80</td>\n",
       "      <td>2</td>\n",
       "    </tr>\n",
       "    <tr>\n",
       "      <th>11</th>\n",
       "      <td>2016-01-01 00:00:03</td>\n",
       "      <td>40.74492</td>\n",
       "      <td>-74.00615</td>\n",
       "      <td>0.79</td>\n",
       "      <td>1</td>\n",
       "      <td>2016-01-01 00:06:19</td>\n",
       "      <td>40.74144</td>\n",
       "      <td>-73.99380</td>\n",
       "      <td>6.0</td>\n",
       "      <td>0.0</td>\n",
       "      <td>1.3</td>\n",
       "      <td>0.00</td>\n",
       "      <td>7.30</td>\n",
       "      <td>2</td>\n",
       "    </tr>\n",
       "    <tr>\n",
       "      <th>12</th>\n",
       "      <td>2016-01-01 00:00:03</td>\n",
       "      <td>40.76354</td>\n",
       "      <td>-73.96933</td>\n",
       "      <td>2.43</td>\n",
       "      <td>6</td>\n",
       "      <td>2016-01-01 00:15:49</td>\n",
       "      <td>40.74425</td>\n",
       "      <td>-73.99569</td>\n",
       "      <td>12.0</td>\n",
       "      <td>0.0</td>\n",
       "      <td>1.3</td>\n",
       "      <td>3.99</td>\n",
       "      <td>17.29</td>\n",
       "      <td>1</td>\n",
       "    </tr>\n",
       "    <tr>\n",
       "      <th>13</th>\n",
       "      <td>2016-01-01 00:00:04</td>\n",
       "      <td>40.74224</td>\n",
       "      <td>-74.00430</td>\n",
       "      <td>3.70</td>\n",
       "      <td>1</td>\n",
       "      <td>2016-01-01 00:14:32</td>\n",
       "      <td>40.70694</td>\n",
       "      <td>-74.00736</td>\n",
       "      <td>14.0</td>\n",
       "      <td>0.0</td>\n",
       "      <td>1.3</td>\n",
       "      <td>3.05</td>\n",
       "      <td>18.35</td>\n",
       "      <td>1</td>\n",
       "    </tr>\n",
       "    <tr>\n",
       "      <th>14</th>\n",
       "      <td>2016-01-01 00:00:05</td>\n",
       "      <td>40.79536</td>\n",
       "      <td>-73.97309</td>\n",
       "      <td>1.92</td>\n",
       "      <td>1</td>\n",
       "      <td>2016-01-01 00:07:14</td>\n",
       "      <td>40.77315</td>\n",
       "      <td>-73.97837</td>\n",
       "      <td>7.5</td>\n",
       "      <td>0.0</td>\n",
       "      <td>1.3</td>\n",
       "      <td>0.00</td>\n",
       "      <td>8.80</td>\n",
       "      <td>2</td>\n",
       "    </tr>\n",
       "    <tr>\n",
       "      <th>15</th>\n",
       "      <td>2016-01-01 00:00:05</td>\n",
       "      <td>40.76895</td>\n",
       "      <td>-73.98516</td>\n",
       "      <td>0.54</td>\n",
       "      <td>1</td>\n",
       "      <td>2016-01-01 00:07:17</td>\n",
       "      <td>40.76173</td>\n",
       "      <td>-73.99023</td>\n",
       "      <td>6.0</td>\n",
       "      <td>0.0</td>\n",
       "      <td>1.3</td>\n",
       "      <td>0.00</td>\n",
       "      <td>7.30</td>\n",
       "      <td>2</td>\n",
       "    </tr>\n",
       "    <tr>\n",
       "      <th>16</th>\n",
       "      <td>2016-01-01 00:00:05</td>\n",
       "      <td>40.71858</td>\n",
       "      <td>-73.99200</td>\n",
       "      <td>2.20</td>\n",
       "      <td>2</td>\n",
       "      <td>2016-01-01 00:14:27</td>\n",
       "      <td>40.73994</td>\n",
       "      <td>-74.00513</td>\n",
       "      <td>11.0</td>\n",
       "      <td>0.0</td>\n",
       "      <td>1.3</td>\n",
       "      <td>1.50</td>\n",
       "      <td>13.80</td>\n",
       "      <td>1</td>\n",
       "    </tr>\n",
       "    <tr>\n",
       "      <th>17</th>\n",
       "      <td>2016-01-01 00:00:06</td>\n",
       "      <td>40.77470</td>\n",
       "      <td>-73.98210</td>\n",
       "      <td>1.70</td>\n",
       "      <td>1</td>\n",
       "      <td>2016-01-01 00:04:44</td>\n",
       "      <td>40.79671</td>\n",
       "      <td>-73.97094</td>\n",
       "      <td>7.0</td>\n",
       "      <td>0.0</td>\n",
       "      <td>1.3</td>\n",
       "      <td>1.65</td>\n",
       "      <td>9.95</td>\n",
       "      <td>1</td>\n",
       "    </tr>\n",
       "    <tr>\n",
       "      <th>18</th>\n",
       "      <td>2016-01-01 00:00:06</td>\n",
       "      <td>40.71850</td>\n",
       "      <td>-73.99484</td>\n",
       "      <td>1.38</td>\n",
       "      <td>1</td>\n",
       "      <td>2016-01-01 00:07:14</td>\n",
       "      <td>40.73423</td>\n",
       "      <td>-73.98981</td>\n",
       "      <td>7.0</td>\n",
       "      <td>0.0</td>\n",
       "      <td>1.3</td>\n",
       "      <td>1.66</td>\n",
       "      <td>9.96</td>\n",
       "      <td>1</td>\n",
       "    </tr>\n",
       "    <tr>\n",
       "      <th>19</th>\n",
       "      <td>2016-01-01 00:00:07</td>\n",
       "      <td>40.72659</td>\n",
       "      <td>-73.98917</td>\n",
       "      <td>1.80</td>\n",
       "      <td>1</td>\n",
       "      <td>2016-01-01 00:09:49</td>\n",
       "      <td>40.71507</td>\n",
       "      <td>-74.00948</td>\n",
       "      <td>9.0</td>\n",
       "      <td>0.0</td>\n",
       "      <td>1.3</td>\n",
       "      <td>0.00</td>\n",
       "      <td>10.30</td>\n",
       "      <td>2</td>\n",
       "    </tr>\n",
       "  </tbody>\n",
       "</table>\n",
       "</div>"
      ],
      "text/plain": [
       "        pickup_datetime  pickup_latitude  pickup_longitude  trip_distance  \\\n",
       "0   2016-01-01 00:00:00         40.73470         -73.99037           1.10   \n",
       "1   2016-01-01 00:00:00         40.72991         -73.98078           4.90   \n",
       "2   2016-01-01 00:00:00         40.67957         -73.98455          10.54   \n",
       "3   2016-01-01 00:00:00         40.71899         -73.99347           4.75   \n",
       "4   2016-01-01 00:00:00         40.78133         -73.96062           1.76   \n",
       "5   2016-01-01 00:00:00         40.74305         -73.98012           5.52   \n",
       "6   2016-01-01 00:00:00         40.71999         -73.99406           7.45   \n",
       "7   2016-01-01 00:00:01         40.74461         -73.97942           1.20   \n",
       "8   2016-01-01 00:00:02         40.72390         -73.99834           3.21   \n",
       "9   2016-01-01 00:00:02         40.79105         -73.94715           6.00   \n",
       "10  2016-01-01 00:00:03         40.72154         -73.98902           0.01   \n",
       "11  2016-01-01 00:00:03         40.74492         -74.00615           0.79   \n",
       "12  2016-01-01 00:00:03         40.76354         -73.96933           2.43   \n",
       "13  2016-01-01 00:00:04         40.74224         -74.00430           3.70   \n",
       "14  2016-01-01 00:00:05         40.79536         -73.97309           1.92   \n",
       "15  2016-01-01 00:00:05         40.76895         -73.98516           0.54   \n",
       "16  2016-01-01 00:00:05         40.71858         -73.99200           2.20   \n",
       "17  2016-01-01 00:00:06         40.77470         -73.98210           1.70   \n",
       "18  2016-01-01 00:00:06         40.71850         -73.99484           1.38   \n",
       "19  2016-01-01 00:00:07         40.72659         -73.98917           1.80   \n",
       "\n",
       "    passenger_count     dropoff_datetime  dropoff_latitude  dropoff_longitude  \\\n",
       "0                 2  2016-01-01 00:00:00          40.73241          -73.98184   \n",
       "1                 5  2016-01-01 00:00:00          40.71668          -73.94447   \n",
       "2                 1  2016-01-01 00:00:00          40.78893          -73.95027   \n",
       "3                 1  2016-01-01 00:00:00          40.65733          -73.96224   \n",
       "4                 3  2016-01-01 00:00:00          40.75851          -73.97726   \n",
       "5                 2  2016-01-01 00:18:30          40.76314          -73.91349   \n",
       "6                 2  2016-01-01 00:26:45          40.78987          -73.96636   \n",
       "7                 1  2016-01-01 00:11:55          40.75394          -73.99203   \n",
       "8                 1  2016-01-01 00:11:08          40.68840          -73.99585   \n",
       "9                 1  2016-01-01 00:11:14          40.86558          -73.92077   \n",
       "10                4  2016-01-01 00:00:11          40.72170          -73.98896   \n",
       "11                1  2016-01-01 00:06:19          40.74144          -73.99380   \n",
       "12                6  2016-01-01 00:15:49          40.74425          -73.99569   \n",
       "13                1  2016-01-01 00:14:32          40.70694          -74.00736   \n",
       "14                1  2016-01-01 00:07:14          40.77315          -73.97837   \n",
       "15                1  2016-01-01 00:07:17          40.76173          -73.99023   \n",
       "16                2  2016-01-01 00:14:27          40.73994          -74.00513   \n",
       "17                1  2016-01-01 00:04:44          40.79671          -73.97094   \n",
       "18                1  2016-01-01 00:07:14          40.73423          -73.98981   \n",
       "19                1  2016-01-01 00:09:49          40.71507          -74.00948   \n",
       "\n",
       "    fare_amount  tolls_amount  taxes_amount  tip_amount  payment_amount  \\\n",
       "0           7.5           0.0           1.3        0.00            8.80   \n",
       "1          18.0           0.0           1.3        0.00           19.30   \n",
       "2          33.0           0.0           1.3        0.00           34.30   \n",
       "3          16.5           0.0           0.8        0.00           17.30   \n",
       "4           8.0           0.0           0.8        0.00            8.80   \n",
       "5          19.0           0.0           1.3        0.00           20.30   \n",
       "6          26.0           0.0           1.3        0.00           27.30   \n",
       "7           9.0           0.0           1.3        0.00           10.30   \n",
       "8          11.5           0.0           1.3        0.00           12.80   \n",
       "9          18.0           0.0           1.3        0.00           19.30   \n",
       "10          2.5           0.0           1.3        0.00            3.80   \n",
       "11          6.0           0.0           1.3        0.00            7.30   \n",
       "12         12.0           0.0           1.3        3.99           17.29   \n",
       "13         14.0           0.0           1.3        3.05           18.35   \n",
       "14          7.5           0.0           1.3        0.00            8.80   \n",
       "15          6.0           0.0           1.3        0.00            7.30   \n",
       "16         11.0           0.0           1.3        1.50           13.80   \n",
       "17          7.0           0.0           1.3        1.65            9.95   \n",
       "18          7.0           0.0           1.3        1.66            9.96   \n",
       "19          9.0           0.0           1.3        0.00           10.30   \n",
       "\n",
       "    payment_type  \n",
       "0              2  \n",
       "1              1  \n",
       "2              1  \n",
       "3              2  \n",
       "4              2  \n",
       "5              2  \n",
       "6              2  \n",
       "7              2  \n",
       "8              2  \n",
       "9              2  \n",
       "10             2  \n",
       "11             2  \n",
       "12             1  \n",
       "13             1  \n",
       "14             2  \n",
       "15             2  \n",
       "16             1  \n",
       "17             1  \n",
       "18             1  \n",
       "19             2  "
      ]
     },
     "execution_count": 3,
     "metadata": {},
     "output_type": "execute_result"
    }
   ],
   "source": [
    "df.head(20)"
   ]
  },
  {
   "cell_type": "code",
   "execution_count": 4,
   "metadata": {
    "scrolled": true
   },
   "outputs": [
    {
     "name": "stdout",
     "output_type": "stream",
     "text": [
      "<class 'pandas.core.frame.DataFrame'>\n",
      "RangeIndex: 10906858 entries, 0 to 10906857\n",
      "Data columns (total 14 columns):\n",
      "pickup_datetime      object\n",
      "pickup_latitude      float64\n",
      "pickup_longitude     float64\n",
      "trip_distance        float64\n",
      "passenger_count      int64\n",
      "dropoff_datetime     object\n",
      "dropoff_latitude     float64\n",
      "dropoff_longitude    float64\n",
      "fare_amount          float64\n",
      "tolls_amount         float64\n",
      "taxes_amount         float64\n",
      "tip_amount           float64\n",
      "payment_amount       float64\n",
      "payment_type         int64\n",
      "dtypes: float64(10), int64(2), object(2)\n",
      "memory usage: 1.1+ GB\n"
     ]
    }
   ],
   "source": [
    "df.info()"
   ]
  },
  {
   "cell_type": "code",
   "execution_count": 5,
   "metadata": {},
   "outputs": [
    {
     "data": {
      "text/plain": [
       "<seaborn.axisgrid.JointGrid at 0x1948951cd30>"
      ]
     },
     "execution_count": 5,
     "metadata": {},
     "output_type": "execute_result"
    },
    {
     "data": {
      "image/png": "[encoded data removed]",
      "text/plain": [
       "<matplotlib.figure.Figure at 0x1948951ccc0>"
      ]
     },
     "metadata": {},
     "output_type": "display_data"
    }
   ],
   "source": [
    "sns.jointplot(x='fare_amount', y='tip_amount', data=df)"
   ]
  },
  {
   "cell_type": "markdown",
   "metadata": {},
   "source": [
    "### Drop geocoordinate columns as they only confuse the model as is - could be useful if we could turn them into zipcodes, but that is over a million reverse geocoding calls..."
   ]
  },
  {
   "cell_type": "code",
   "execution_count": 6,
   "metadata": {
    "collapsed": true
   },
   "outputs": [],
   "source": [
    "df = df.drop('pickup_latitude',1)\n",
    "df = df.drop('pickup_longitude',1)\n",
    "df = df.drop('dropoff_latitude',1)\n",
    "df = df.drop('dropoff_longitude',1)"
   ]
  },
  {
   "cell_type": "markdown",
   "metadata": {},
   "source": [
    "### Drop some bad outliers indicated by the plot above"
   ]
  },
  {
   "cell_type": "code",
   "execution_count": 7,
   "metadata": {
    "collapsed": true
   },
   "outputs": [],
   "source": [
    "df = df.drop(df[df['fare_amount'] > 1000].index)   # Abnormally expensive fairs. Don't think anyone is really spending $100,000 on a taxi ride\n",
    "df = df.drop(df[df['fare_amount'] < 0].index)    # Negative fairs. What, taxi driver got mugged? Don't think so.\n",
    "df = df.drop(df[df['tip_amount'] < 0].index)    # Negative tips. Taxi driver mugged passenger?\n",
    "df = df.drop(df[df['payment_amount'] < 0].index)   # Somehow I don't see cabbies giving money away.\n",
    "df = df.drop(df[df['passenger_count'] <= 0].index)    # Drop all entries with 0 passengers."
   ]
  },
  {
   "cell_type": "markdown",
   "metadata": {},
   "source": [
    "### Datetime of pickup and drop off is too detailed to be helpful, but some more generalized data based off of this could be useful..."
   ]
  },
  {
   "cell_type": "markdown",
   "metadata": {},
   "source": [
    "### Extract day of the week: January 1st, 2016 - the first day in our data set - was a Friday, so day % 7 will result in 0 = Thursday, 1 = Friday...6 = Wednesday"
   ]
  },
  {
   "cell_type": "code",
   "execution_count": 8,
   "metadata": {
    "collapsed": true
   },
   "outputs": [],
   "source": [
    "def convert_day(x):\n",
    "    d = datetime.datetime.strptime(x, \"%Y-%m-%d %H:%M:%S\").date()\n",
    "    return d.day % 7"
   ]
  },
  {
   "cell_type": "code",
   "execution_count": 9,
   "metadata": {
    "collapsed": true
   },
   "outputs": [],
   "source": [
    "df['day'] = df['pickup_datetime'].apply(lambda x: convert_day(x))"
   ]
  },
  {
   "cell_type": "markdown",
   "metadata": {},
   "source": [
    "### Extract time of the day as evening (6 pm to midnight: 0); graveyard shift (midnight to 6 am: 1); morning (6 am to noon: 2); or afternoon (noon to 6 pm: 3)"
   ]
  },
  {
   "cell_type": "code",
   "execution_count": 10,
   "metadata": {
    "collapsed": true
   },
   "outputs": [],
   "source": [
    "def convert_time(x):\n",
    "    t = datetime.datetime.strptime(x, \"%Y-%m-%d %H:%M:%S\").time()\n",
    "    hour = t.hour\n",
    "    if hour >= 18 and hour <= 23:\n",
    "        return 0\n",
    "    elif hour >= 0 and hour <= 5:\n",
    "        return 1\n",
    "    elif hour >= 6 and hour <= 11:\n",
    "        return 2\n",
    "    elif hour >= 12 and hour <= 17:\n",
    "        return 3"
   ]
  },
  {
   "cell_type": "code",
   "execution_count": 11,
   "metadata": {
    "collapsed": true
   },
   "outputs": [],
   "source": [
    "df['shift'] = df['pickup_datetime'].apply(lambda x: convert_time(x))"
   ]
  },
  {
   "cell_type": "code",
   "execution_count": 12,
   "metadata": {},
   "outputs": [
    {
     "data": {
      "text/html": [
       "<div>\n",
       "<style>\n",
       "    .dataframe thead tr:only-child th {\n",
       "        text-align: right;\n",
       "    }\n",
       "\n",
       "    .dataframe thead th {\n",
       "        text-align: left;\n",
       "    }\n",
       "\n",
       "    .dataframe tbody tr th {\n",
       "        vertical-align: top;\n",
       "    }\n",
       "</style>\n",
       "<table border=\"1\" class=\"dataframe\">\n",
       "  <thead>\n",
       "    <tr style=\"text-align: right;\">\n",
       "      <th></th>\n",
       "      <th>pickup_datetime</th>\n",
       "      <th>trip_distance</th>\n",
       "      <th>passenger_count</th>\n",
       "      <th>dropoff_datetime</th>\n",
       "      <th>fare_amount</th>\n",
       "      <th>tolls_amount</th>\n",
       "      <th>taxes_amount</th>\n",
       "      <th>tip_amount</th>\n",
       "      <th>payment_amount</th>\n",
       "      <th>payment_type</th>\n",
       "      <th>day</th>\n",
       "      <th>shift</th>\n",
       "    </tr>\n",
       "  </thead>\n",
       "  <tbody>\n",
       "    <tr>\n",
       "      <th>10906853</th>\n",
       "      <td>2016-01-31 23:59:58</td>\n",
       "      <td>2.20</td>\n",
       "      <td>1</td>\n",
       "      <td>2016-02-01 00:07:36</td>\n",
       "      <td>9.0</td>\n",
       "      <td>0.0</td>\n",
       "      <td>1.3</td>\n",
       "      <td>3.05</td>\n",
       "      <td>13.35</td>\n",
       "      <td>1</td>\n",
       "      <td>3</td>\n",
       "      <td>0</td>\n",
       "    </tr>\n",
       "    <tr>\n",
       "      <th>10906854</th>\n",
       "      <td>2016-01-31 23:59:59</td>\n",
       "      <td>0.80</td>\n",
       "      <td>2</td>\n",
       "      <td>2016-02-01 00:07:26</td>\n",
       "      <td>6.5</td>\n",
       "      <td>0.0</td>\n",
       "      <td>1.3</td>\n",
       "      <td>0.00</td>\n",
       "      <td>7.80</td>\n",
       "      <td>1</td>\n",
       "      <td>3</td>\n",
       "      <td>0</td>\n",
       "    </tr>\n",
       "    <tr>\n",
       "      <th>10906855</th>\n",
       "      <td>2016-01-31 23:59:59</td>\n",
       "      <td>1.10</td>\n",
       "      <td>1</td>\n",
       "      <td>2016-02-01 00:09:28</td>\n",
       "      <td>8.0</td>\n",
       "      <td>0.0</td>\n",
       "      <td>1.3</td>\n",
       "      <td>0.00</td>\n",
       "      <td>9.30</td>\n",
       "      <td>2</td>\n",
       "      <td>3</td>\n",
       "      <td>0</td>\n",
       "    </tr>\n",
       "    <tr>\n",
       "      <th>10906856</th>\n",
       "      <td>2016-01-31 23:59:59</td>\n",
       "      <td>2.64</td>\n",
       "      <td>1</td>\n",
       "      <td>2016-02-01 00:12:16</td>\n",
       "      <td>11.0</td>\n",
       "      <td>0.0</td>\n",
       "      <td>1.3</td>\n",
       "      <td>0.00</td>\n",
       "      <td>12.30</td>\n",
       "      <td>2</td>\n",
       "      <td>3</td>\n",
       "      <td>0</td>\n",
       "    </tr>\n",
       "    <tr>\n",
       "      <th>10906857</th>\n",
       "      <td>2016-01-31 23:59:59</td>\n",
       "      <td>3.95</td>\n",
       "      <td>1</td>\n",
       "      <td>2016-02-01 00:13:01</td>\n",
       "      <td>14.0</td>\n",
       "      <td>0.0</td>\n",
       "      <td>1.3</td>\n",
       "      <td>3.06</td>\n",
       "      <td>18.36</td>\n",
       "      <td>1</td>\n",
       "      <td>3</td>\n",
       "      <td>0</td>\n",
       "    </tr>\n",
       "  </tbody>\n",
       "</table>\n",
       "</div>"
      ],
      "text/plain": [
       "              pickup_datetime  trip_distance  passenger_count  \\\n",
       "10906853  2016-01-31 23:59:58           2.20                1   \n",
       "10906854  2016-01-31 23:59:59           0.80                2   \n",
       "10906855  2016-01-31 23:59:59           1.10                1   \n",
       "10906856  2016-01-31 23:59:59           2.64                1   \n",
       "10906857  2016-01-31 23:59:59           3.95                1   \n",
       "\n",
       "             dropoff_datetime  fare_amount  tolls_amount  taxes_amount  \\\n",
       "10906853  2016-02-01 00:07:36          9.0           0.0           1.3   \n",
       "10906854  2016-02-01 00:07:26          6.5           0.0           1.3   \n",
       "10906855  2016-02-01 00:09:28          8.0           0.0           1.3   \n",
       "10906856  2016-02-01 00:12:16         11.0           0.0           1.3   \n",
       "10906857  2016-02-01 00:13:01         14.0           0.0           1.3   \n",
       "\n",
       "          tip_amount  payment_amount  payment_type  day  shift  \n",
       "10906853        3.05           13.35             1    3      0  \n",
       "10906854        0.00            7.80             1    3      0  \n",
       "10906855        0.00            9.30             2    3      0  \n",
       "10906856        0.00           12.30             2    3      0  \n",
       "10906857        3.06           18.36             1    3      0  "
      ]
     },
     "execution_count": 12,
     "metadata": {},
     "output_type": "execute_result"
    }
   ],
   "source": [
    "df.tail()"
   ]
  },
  {
   "cell_type": "markdown",
   "metadata": {},
   "source": [
    "### Now drop the datetime columns"
   ]
  },
  {
   "cell_type": "code",
   "execution_count": 13,
   "metadata": {
    "collapsed": true
   },
   "outputs": [],
   "source": [
    "df = df.drop('pickup_datetime',1)\n",
    "df = df.drop('dropoff_datetime',1)"
   ]
  },
  {
   "cell_type": "code",
   "execution_count": 14,
   "metadata": {},
   "outputs": [
    {
     "data": {
      "text/plain": [
       "<seaborn.axisgrid.JointGrid at 0x194caf7b6d8>"
      ]
     },
     "execution_count": 14,
     "metadata": {},
     "output_type": "execute_result"
    },
    {
     "data": {
      "image/png": "[encoded data removed]",
      "text/plain": [
       "<matplotlib.figure.Figure at 0x194caf7bdd8>"
      ]
     },
     "metadata": {},
     "output_type": "display_data"
    }
   ],
   "source": [
    "sns.jointplot(x='fare_amount', y='tip_amount', data=df)"
   ]
  },
  {
   "cell_type": "code",
   "execution_count": 15,
   "metadata": {
    "scrolled": true
   },
   "outputs": [
    {
     "name": "stdout",
     "output_type": "stream",
     "text": [
      "Average tip: 1.751358136890855\n"
     ]
    }
   ],
   "source": [
    "total_tips = df['tip_amount'].sum()\n",
    "average_tip = total_tips / len(df.index)\n",
    "print('Average tip: ' + str(average_tip))"
   ]
  },
  {
   "cell_type": "markdown",
   "metadata": {},
   "source": [
    "### Create a true/false column for predicting whether a driver receives a tip"
   ]
  },
  {
   "cell_type": "code",
   "execution_count": 16,
   "metadata": {
    "collapsed": true
   },
   "outputs": [],
   "source": [
    "did_tip = []\n",
    "for val in df['tip_amount']:\n",
    "    if val > 0:\n",
    "        did_tip.append(1)\n",
    "    else:\n",
    "        did_tip.append(0)"
   ]
  },
  {
   "cell_type": "code",
   "execution_count": 17,
   "metadata": {
    "collapsed": true
   },
   "outputs": [],
   "source": [
    "did_tip = pd.Series(did_tip)"
   ]
  },
  {
   "cell_type": "code",
   "execution_count": 18,
   "metadata": {
    "collapsed": true
   },
   "outputs": [],
   "source": [
    "df['did_tip'] = did_tip.values"
   ]
  },
  {
   "cell_type": "markdown",
   "metadata": {},
   "source": [
    "### Raw statistical chance passengers will tip:"
   ]
  },
  {
   "cell_type": "code",
   "execution_count": 19,
   "metadata": {},
   "outputs": [
    {
     "name": "stdout",
     "output_type": "stream",
     "text": [
      "6930989\n",
      "chance of tip: 0.6357469589168858\n"
     ]
    }
   ],
   "source": [
    "total_tips = 0\n",
    "for val in df['did_tip']:\n",
    "    if val:\n",
    "        total_tips += 1\n",
    "        \n",
    "print(total_tips)\n",
    "print('chance of tip: ' + str(total_tips/len(df['did_tip'])))"
   ]
  },
  {
   "cell_type": "code",
   "execution_count": 20,
   "metadata": {
    "scrolled": false
   },
   "outputs": [
    {
     "name": "stderr",
     "output_type": "stream",
     "text": [
      "C:\\Anaconda\\lib\\site-packages\\sklearn\\cross_validation.py:44: DeprecationWarning: This module was deprecated in version 0.18 in favor of the model_selection module into which all the refactored classes and functions are moved. Also note that the interface of the new CV iterators are different from that of this module. This module will be removed in 0.20.\n",
      "  \"This module will be removed in 0.20.\", DeprecationWarning)\n"
     ]
    }
   ],
   "source": [
    "from sklearn.cross_validation import train_test_split"
   ]
  },
  {
   "cell_type": "markdown",
   "metadata": {},
   "source": [
    "### Split dataframe into features and target"
   ]
  },
  {
   "cell_type": "code",
   "execution_count": 21,
   "metadata": {
    "collapsed": true
   },
   "outputs": [],
   "source": [
    "df_feat = df.drop('did_tip', 1)\n",
    "df_target = df['did_tip']"
   ]
  },
  {
   "cell_type": "code",
   "execution_count": 22,
   "metadata": {
    "collapsed": true
   },
   "outputs": [],
   "source": [
    "from sklearn import linear_model\n",
    "from sklearn.metrics import classification_report,confusion_matrix"
   ]
  },
  {
   "cell_type": "markdown",
   "metadata": {},
   "source": [
    "### Train/Test split (70/30)"
   ]
  },
  {
   "cell_type": "code",
   "execution_count": 23,
   "metadata": {
    "collapsed": true
   },
   "outputs": [],
   "source": [
    "X_train, X_test, y_train, y_test = train_test_split(df_feat, df_target, test_size=0.30)"
   ]
  },
  {
   "cell_type": "markdown",
   "metadata": {},
   "source": [
    "### Use a stochastic gradient descent (SGD) linear classifier because we have too many (>100,000) data points for a typical SVC model"
   ]
  },
  {
   "cell_type": "markdown",
   "metadata": {},
   "source": [
    "### Set the class_weights to 'balanced' from the default of None so they are proportional to frequencies"
   ]
  },
  {
   "cell_type": "code",
   "execution_count": 24,
   "metadata": {
    "collapsed": true
   },
   "outputs": [],
   "source": [
    "model = linear_model.SGDClassifier(alpha=0.0001, average=False, class_weight='balanced', epsilon=0.1,\n",
    "        eta0=0.0, fit_intercept=True, l1_ratio=0.15,\n",
    "        learning_rate='optimal', loss='hinge', n_iter=10, n_jobs=3,\n",
    "        penalty='l2', power_t=0.5, random_state=None, shuffle=True,\n",
    "        verbose=0, warm_start=False)"
   ]
  },
  {
   "cell_type": "code",
   "execution_count": 25,
   "metadata": {
    "scrolled": true
   },
   "outputs": [
    {
     "data": {
      "text/plain": [
       "SGDClassifier(alpha=0.0001, average=False, class_weight='balanced',\n",
       "       epsilon=0.1, eta0=0.0, fit_intercept=True, l1_ratio=0.15,\n",
       "       learning_rate='optimal', loss='hinge', n_iter=10, n_jobs=3,\n",
       "       penalty='l2', power_t=0.5, random_state=None, shuffle=True,\n",
       "       verbose=0, warm_start=False)"
      ]
     },
     "execution_count": 25,
     "metadata": {},
     "output_type": "execute_result"
    }
   ],
   "source": [
    "model.fit(X_train,y_train)"
   ]
  },
  {
   "cell_type": "code",
   "execution_count": 26,
   "metadata": {
    "collapsed": true
   },
   "outputs": [],
   "source": [
    "predictions = model.predict(X_test)"
   ]
  },
  {
   "cell_type": "code",
   "execution_count": 27,
   "metadata": {},
   "outputs": [
    {
     "name": "stdout",
     "output_type": "stream",
     "text": [
      "[[1179544   10676]\n",
      " [  43523 2036893]]\n",
      "[1 1 0 ..., 1 1 0]\n"
     ]
    }
   ],
   "source": [
    "print(confusion_matrix(y_test,predictions))\n",
    "print(predictions)"
   ]
  },
  {
   "cell_type": "code",
   "execution_count": 28,
   "metadata": {},
   "outputs": [
    {
     "name": "stdout",
     "output_type": "stream",
     "text": [
      "             precision    recall  f1-score   support\n",
      "\n",
      "          0       0.96      0.99      0.98   1190220\n",
      "          1       0.99      0.98      0.99   2080416\n",
      "\n",
      "avg / total       0.98      0.98      0.98   3270636\n",
      "\n"
     ]
    }
   ],
   "source": [
    "print(classification_report(y_test,predictions))"
   ]
  },
  {
   "cell_type": "markdown",
   "metadata": {
    "collapsed": true
   },
   "source": [
    "### 98% accuracy in predicting whether or not a passenger's trip will result in a tip for the driver"
   ]
  },
  {
   "cell_type": "markdown",
   "metadata": {},
   "source": [
    "## Let's test it on completely unseen data from April of that year and see if the change of month has an impact on accuracy"
   ]
  },
  {
   "cell_type": "code",
   "execution_count": 29,
   "metadata": {
    "collapsed": true
   },
   "outputs": [],
   "source": [
    "april = pd.read_csv('4april.csv')"
   ]
  },
  {
   "cell_type": "code",
   "execution_count": 30,
   "metadata": {
    "collapsed": true
   },
   "outputs": [],
   "source": [
    "april = april.drop('pickup_latitude',1)\n",
    "april = april.drop('pickup_longitude',1)\n",
    "april = april.drop('dropoff_latitude',1)\n",
    "april = april.drop('dropoff_longitude',1)"
   ]
  },
  {
   "cell_type": "code",
   "execution_count": 31,
   "metadata": {
    "collapsed": true
   },
   "outputs": [],
   "source": [
    "april = april.drop(april[april['fare_amount'] > 1000].index)   # Abnormally expensive fairs. Don't think anyone is really spending $100,000 on a taxi ride\n",
    "april = april.drop(april[april['fare_amount'] < 0].index)    # Negative fairs. What, taxi driver got mugged? Don't think so.\n",
    "april = april.drop(april[april['tip_amount'] < 0].index)    # Negative tips. Taxi driver tipped passenger?\n",
    "april = april.drop(april[april['payment_amount'] < 0].index)   # Somehow I don't see cabbies giving money away.\n",
    "april = april.drop(april[april['passenger_count'] <= 0].index)    # Drop all entries with 0 passengers."
   ]
  },
  {
   "cell_type": "code",
   "execution_count": 32,
   "metadata": {
    "collapsed": true
   },
   "outputs": [],
   "source": [
    "april['day'] = april['pickup_datetime'].apply(lambda x: convert_day(x))"
   ]
  },
  {
   "cell_type": "code",
   "execution_count": 33,
   "metadata": {
    "collapsed": true
   },
   "outputs": [],
   "source": [
    "april['shift'] = april['pickup_datetime'].apply(lambda x: convert_time(x))"
   ]
  },
  {
   "cell_type": "code",
   "execution_count": 34,
   "metadata": {
    "collapsed": true
   },
   "outputs": [],
   "source": [
    "april = april.drop('pickup_datetime',1)\n",
    "april = april.drop('dropoff_datetime',1)"
   ]
  },
  {
   "cell_type": "code",
   "execution_count": 35,
   "metadata": {
    "collapsed": true
   },
   "outputs": [],
   "source": [
    "did_tip = []\n",
    "for val in april['tip_amount']:\n",
    "    if val > 0:\n",
    "        did_tip.append(1)\n",
    "    else:\n",
    "        did_tip.append(0)\n",
    "\n",
    "did_tip = pd.Series(did_tip)\n",
    "april['did_tip'] = did_tip.values"
   ]
  },
  {
   "cell_type": "code",
   "execution_count": 36,
   "metadata": {
    "collapsed": true
   },
   "outputs": [],
   "source": [
    "april_feat = april.drop('did_tip', 1)\n",
    "april_target = april['did_tip']"
   ]
  },
  {
   "cell_type": "code",
   "execution_count": 37,
   "metadata": {
    "collapsed": true
   },
   "outputs": [],
   "source": [
    "predictions = model.predict(april_feat)"
   ]
  },
  {
   "cell_type": "code",
   "execution_count": 38,
   "metadata": {},
   "outputs": [
    {
     "name": "stdout",
     "output_type": "stream",
     "text": [
      "[[4201218   48138]\n",
      " [ 153260 7518833]]\n",
      "[1 0 1 ..., 1 1 1]\n"
     ]
    }
   ],
   "source": [
    "print(confusion_matrix(april_target,predictions))\n",
    "print(predictions)"
   ]
  },
  {
   "cell_type": "code",
   "execution_count": 39,
   "metadata": {},
   "outputs": [
    {
     "name": "stdout",
     "output_type": "stream",
     "text": [
      "             precision    recall  f1-score   support\n",
      "\n",
      "          0       0.96      0.99      0.98   4249356\n",
      "          1       0.99      0.98      0.99   7672093\n",
      "\n",
      "avg / total       0.98      0.98      0.98  11921449\n",
      "\n"
     ]
    }
   ],
   "source": [
    "print(classification_report(april_target,predictions))"
   ]
  },
  {
   "cell_type": "markdown",
   "metadata": {
    "collapsed": true
   },
   "source": [
    "### Again, 98% accuracy - great!"
   ]
  }
 ],
 "metadata": {
  "kernelspec": {
   "display_name": "Python 3",
   "language": "python",
   "name": "python3"
  },
  "language_info": {
   "codemirror_mode": {
    "name": "ipython",
    "version": 3
   },
   "file_extension": ".py",
   "mimetype": "text/x-python",
   "name": "python",
   "nbconvert_exporter": "python",
   "pygments_lexer": "ipython3",
   "version": "3.6.1"
  }
 },
 "nbformat": 4,
 "nbformat_minor": 2
}
